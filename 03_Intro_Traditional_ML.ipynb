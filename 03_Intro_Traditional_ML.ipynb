{
 "cells": [
  {
   "cell_type": "markdown",
   "id": "58cb7c57",
   "metadata": {},
   "source": [
    "> __Purpose__: Experiment with traditional ML approaches (e.g. no deep learning, keep it simple here).  Regression, binary classification (e.g. did stroke occur in this vessel y/n), and dense classification (e.g. classify every single data point into \"stroke is occurring\" or \"stroke is not occurring\")"
   ]
  },
  {
   "cell_type": "code",
   "execution_count": 1,
   "id": "6c0cb3f8",
   "metadata": {},
   "outputs": [],
   "source": [
    "import pandas as pd\n",
    "import numpy as np\n",
    "from scipy.io import loadmat\n",
    "import matplotlib.pyplot as plt\n",
    "import matplotlib.image as mpimg\n",
    "import time\n",
    "import datetime\n",
    "import os\n",
    "\n",
    "title_font_size = 30\n",
    "label_font_size = 20\n",
    "\n",
    "plt.rc('font', size=title_font_size) #controls default text size\n",
    "plt.rc('axes', titlesize=title_font_size) #fontsize of the title\n",
    "plt.rc('axes', labelsize=label_font_size) #fontsize of the x and y labels\n",
    "plt.rc('xtick', labelsize=label_font_size) #fontsize of the x tick labels\n",
    "plt.rc('ytick', labelsize=label_font_size) #fontsize of the y tick labels\n",
    "plt.rc('legend', fontsize=label_font_size) #fontsize of the legend"
   ]
  },
  {
   "cell_type": "markdown",
   "id": "0efb86b0",
   "metadata": {},
   "source": [
    "Load data and the premade labels from the previous NB"
   ]
  },
  {
   "cell_type": "code",
   "execution_count": 2,
   "id": "37d4a794",
   "metadata": {},
   "outputs": [],
   "source": [
    "# RAW DATA FILES\n",
    "mat_94b = loadmat('data_94b.mat')\n",
    "mat_95q = loadmat('data_95q.mat')\n",
    "\n",
    "# LABELS\n",
    "y_train_reg95 = np.load(os.path.join('Labels', '95_reg.npy'))\n",
    "y_train_class95 = np.load(os.path.join('Labels', '95_class.npy'))\n",
    "y_train_class_1D95 = np.load(os.path.join('Labels', '95_class_1D.npy'))\n",
    "\n",
    "y_train_reg94b = np.load(os.path.join('Labels', '94b_reg.npy'))\n",
    "y_train_class94b = np.load(os.path.join('Labels', '94b_class.npy'))\n",
    "y_train_class_1D94b = np.load(os.path.join('Labels', '94b_class_1D.npy'))"
   ]
  },
  {
   "cell_type": "code",
   "execution_count": 3,
   "id": "51e26525",
   "metadata": {},
   "outputs": [],
   "source": [
    "all_mats = [mat_94b, mat_95q]\n",
    "mat_names = [\"94b\", \"95\"]\n",
    "num_mats = len(all_mats)\n",
    "\n",
    "num_vessels_lst = [0] * num_mats\n",
    "m_rICT = [0] * num_mats\n",
    "t = [0] * num_mats\n",
    "\n",
    "labels = [0] * num_mats"
   ]
  },
  {
   "cell_type": "code",
   "execution_count": 4,
   "id": "258c6bd1",
   "metadata": {},
   "outputs": [],
   "source": [
    "running_max = 0\n",
    "for i, mat in enumerate(all_mats):\n",
    "    num_vessels_lst[i] = mat['names'].shape[1]\n",
    "    mat_name = mat_names[i]\n",
    "    \n",
    "    m_rICT[i] = mat['rICT']\n",
    "    # Need to find what the longest rICT vector is\n",
    "    if m_rICT[i].shape[0] > running_max:\n",
    "        running_max = m_rICT[i].shape[0]\n",
    "    #m_ROI[i] = mat['ROI']  # I don't think I actually need this, for now at least\n",
    "    m_t = mat['t']\n",
    "    t[i] = m_t.reshape((m_t.shape[1]))\n",
    "    \n",
    "    y_train_reg = np.load(os.path.join('Labels', mat_name + '_reg.npy'))\n",
    "    y_train_class = np.load(os.path.join('Labels', mat_name + '_class.npy'))\n",
    "    y_train_class_1D = np.load(os.path.join('Labels', mat_name + '_class_1D.npy'))\n",
    "    labels[i] = [y_train_reg, y_train_class, y_train_class_1D]"
   ]
  },
  {
   "cell_type": "code",
   "execution_count": 5,
   "id": "3d9c1198",
   "metadata": {},
   "outputs": [
    {
     "name": "stdout",
     "output_type": "stream",
     "text": [
      "(7,)\n",
      "(7, 4000)\n",
      "(7,)\n"
     ]
    }
   ],
   "source": [
    "print(y_train_reg.shape)\n",
    "print(y_train_class.shape)\n",
    "print(y_train_class_1D.shape)"
   ]
  },
  {
   "cell_type": "markdown",
   "id": "37ab4036",
   "metadata": {},
   "source": [
    "Assemble the data from the different datasets into a single dataframe, and a single set of labels"
   ]
  },
  {
   "cell_type": "code",
   "execution_count": 6,
   "id": "84917c50",
   "metadata": {},
   "outputs": [
    {
     "name": "stdout",
     "output_type": "stream",
     "text": [
      "0: delta t is 0.14110399999998663\n",
      "1: delta t is 0.00736\n"
     ]
    }
   ],
   "source": [
    "rict_df = pd.DataFrame()\n",
    "reg_labels_npy = np.array([])\n",
    "class_labels_df = pd.DataFrame()\n",
    "class1D_labels_npy = np.array([])\n",
    "\n",
    "# Create the rict_df of input, and the labels_df \n",
    "for i in range(len(num_vessels_lst)):\n",
    "    # First, zero pad to reach max vector length\n",
    "    if running_max - m_rICT[i].shape[0] > 0:\n",
    "        zp_mat = np.zeros(((running_max - m_rICT[i].shape[0]), num_vessels_lst[i]))\n",
    "        zp_rict = np.concatenate((m_rICT[i], zp_mat))\n",
    "        \n",
    "        zp_class = np.concatenate((labels[i][1], np.transpose(zp_mat)), axis=1)\n",
    "    else:\n",
    "        zp_rict = m_rICT[i]\n",
    "        zp_class = labels[i][1]\n",
    "        \n",
    "    # Now safely append to dataframe\n",
    "    rict_df = pd.concat((rict_df, pd.DataFrame(np.transpose(zp_rict)))) #, axis=1\n",
    "    # Labels\n",
    "    reg_labels_npy = np.concatenate((reg_labels_npy, labels[i][0]))\n",
    "    class_labels_df = pd.concat((rict_df, pd.DataFrame(zp_class)))\n",
    "    class1D_labels_npy = np.concatenate((class1D_labels_npy, labels[i][2]))\n",
    "    \n",
    "    print(f\"{i}: delta t is {(t[i][25] - t[i][0])/25}\")"
   ]
  },
  {
   "cell_type": "code",
   "execution_count": 7,
   "id": "1a67b1eb",
   "metadata": {},
   "outputs": [
    {
     "name": "stdout",
     "output_type": "stream",
     "text": [
      "(14, 4000)\n"
     ]
    },
    {
     "data": {
      "text/html": [
       "<div>\n",
       "<style scoped>\n",
       "    .dataframe tbody tr th:only-of-type {\n",
       "        vertical-align: middle;\n",
       "    }\n",
       "\n",
       "    .dataframe tbody tr th {\n",
       "        vertical-align: top;\n",
       "    }\n",
       "\n",
       "    .dataframe thead th {\n",
       "        text-align: right;\n",
       "    }\n",
       "</style>\n",
       "<table border=\"1\" class=\"dataframe\">\n",
       "  <thead>\n",
       "    <tr style=\"text-align: right;\">\n",
       "      <th></th>\n",
       "      <th>0</th>\n",
       "      <th>1</th>\n",
       "      <th>2</th>\n",
       "      <th>3</th>\n",
       "      <th>4</th>\n",
       "      <th>5</th>\n",
       "      <th>6</th>\n",
       "      <th>7</th>\n",
       "      <th>8</th>\n",
       "      <th>9</th>\n",
       "      <th>...</th>\n",
       "      <th>3990</th>\n",
       "      <th>3991</th>\n",
       "      <th>3992</th>\n",
       "      <th>3993</th>\n",
       "      <th>3994</th>\n",
       "      <th>3995</th>\n",
       "      <th>3996</th>\n",
       "      <th>3997</th>\n",
       "      <th>3998</th>\n",
       "      <th>3999</th>\n",
       "    </tr>\n",
       "  </thead>\n",
       "  <tbody>\n",
       "    <tr>\n",
       "      <th>0</th>\n",
       "      <td>1.061179</td>\n",
       "      <td>1.036253</td>\n",
       "      <td>1.073106</td>\n",
       "      <td>0.970642</td>\n",
       "      <td>0.957931</td>\n",
       "      <td>0.929883</td>\n",
       "      <td>0.968243</td>\n",
       "      <td>0.960815</td>\n",
       "      <td>0.965519</td>\n",
       "      <td>1.005626</td>\n",
       "      <td>...</td>\n",
       "      <td>0.0</td>\n",
       "      <td>0.0</td>\n",
       "      <td>0.0</td>\n",
       "      <td>0.0</td>\n",
       "      <td>0.0</td>\n",
       "      <td>0.0</td>\n",
       "      <td>0.0</td>\n",
       "      <td>0.0</td>\n",
       "      <td>0.0</td>\n",
       "      <td>0.0</td>\n",
       "    </tr>\n",
       "    <tr>\n",
       "      <th>1</th>\n",
       "      <td>1.017361</td>\n",
       "      <td>0.968635</td>\n",
       "      <td>1.013525</td>\n",
       "      <td>0.959467</td>\n",
       "      <td>0.932092</td>\n",
       "      <td>0.962371</td>\n",
       "      <td>0.985138</td>\n",
       "      <td>0.994388</td>\n",
       "      <td>0.998228</td>\n",
       "      <td>1.001761</td>\n",
       "      <td>...</td>\n",
       "      <td>0.0</td>\n",
       "      <td>0.0</td>\n",
       "      <td>0.0</td>\n",
       "      <td>0.0</td>\n",
       "      <td>0.0</td>\n",
       "      <td>0.0</td>\n",
       "      <td>0.0</td>\n",
       "      <td>0.0</td>\n",
       "      <td>0.0</td>\n",
       "      <td>0.0</td>\n",
       "    </tr>\n",
       "    <tr>\n",
       "      <th>2</th>\n",
       "      <td>1.114077</td>\n",
       "      <td>1.059771</td>\n",
       "      <td>1.078420</td>\n",
       "      <td>0.993976</td>\n",
       "      <td>0.951927</td>\n",
       "      <td>0.979590</td>\n",
       "      <td>1.005449</td>\n",
       "      <td>1.010853</td>\n",
       "      <td>1.028106</td>\n",
       "      <td>1.053987</td>\n",
       "      <td>...</td>\n",
       "      <td>0.0</td>\n",
       "      <td>0.0</td>\n",
       "      <td>0.0</td>\n",
       "      <td>0.0</td>\n",
       "      <td>0.0</td>\n",
       "      <td>0.0</td>\n",
       "      <td>0.0</td>\n",
       "      <td>0.0</td>\n",
       "      <td>0.0</td>\n",
       "      <td>0.0</td>\n",
       "    </tr>\n",
       "    <tr>\n",
       "      <th>3</th>\n",
       "      <td>1.096296</td>\n",
       "      <td>1.021505</td>\n",
       "      <td>1.078318</td>\n",
       "      <td>0.988432</td>\n",
       "      <td>0.953285</td>\n",
       "      <td>0.961240</td>\n",
       "      <td>0.990814</td>\n",
       "      <td>0.992204</td>\n",
       "      <td>1.000505</td>\n",
       "      <td>1.047153</td>\n",
       "      <td>...</td>\n",
       "      <td>0.0</td>\n",
       "      <td>0.0</td>\n",
       "      <td>0.0</td>\n",
       "      <td>0.0</td>\n",
       "      <td>0.0</td>\n",
       "      <td>0.0</td>\n",
       "      <td>0.0</td>\n",
       "      <td>0.0</td>\n",
       "      <td>0.0</td>\n",
       "      <td>0.0</td>\n",
       "    </tr>\n",
       "    <tr>\n",
       "      <th>4</th>\n",
       "      <td>1.147843</td>\n",
       "      <td>1.105764</td>\n",
       "      <td>1.058356</td>\n",
       "      <td>1.011027</td>\n",
       "      <td>0.935990</td>\n",
       "      <td>0.957186</td>\n",
       "      <td>0.957919</td>\n",
       "      <td>0.988637</td>\n",
       "      <td>0.962370</td>\n",
       "      <td>1.026500</td>\n",
       "      <td>...</td>\n",
       "      <td>0.0</td>\n",
       "      <td>0.0</td>\n",
       "      <td>0.0</td>\n",
       "      <td>0.0</td>\n",
       "      <td>0.0</td>\n",
       "      <td>0.0</td>\n",
       "      <td>0.0</td>\n",
       "      <td>0.0</td>\n",
       "      <td>0.0</td>\n",
       "      <td>0.0</td>\n",
       "    </tr>\n",
       "  </tbody>\n",
       "</table>\n",
       "<p>5 rows × 4000 columns</p>\n",
       "</div>"
      ],
      "text/plain": [
       "       0         1         2         3         4         5         6     \\\n",
       "0  1.061179  1.036253  1.073106  0.970642  0.957931  0.929883  0.968243   \n",
       "1  1.017361  0.968635  1.013525  0.959467  0.932092  0.962371  0.985138   \n",
       "2  1.114077  1.059771  1.078420  0.993976  0.951927  0.979590  1.005449   \n",
       "3  1.096296  1.021505  1.078318  0.988432  0.953285  0.961240  0.990814   \n",
       "4  1.147843  1.105764  1.058356  1.011027  0.935990  0.957186  0.957919   \n",
       "\n",
       "       7         8         9     ...  3990  3991  3992  3993  3994  3995  \\\n",
       "0  0.960815  0.965519  1.005626  ...   0.0   0.0   0.0   0.0   0.0   0.0   \n",
       "1  0.994388  0.998228  1.001761  ...   0.0   0.0   0.0   0.0   0.0   0.0   \n",
       "2  1.010853  1.028106  1.053987  ...   0.0   0.0   0.0   0.0   0.0   0.0   \n",
       "3  0.992204  1.000505  1.047153  ...   0.0   0.0   0.0   0.0   0.0   0.0   \n",
       "4  0.988637  0.962370  1.026500  ...   0.0   0.0   0.0   0.0   0.0   0.0   \n",
       "\n",
       "   3996  3997  3998  3999  \n",
       "0   0.0   0.0   0.0   0.0  \n",
       "1   0.0   0.0   0.0   0.0  \n",
       "2   0.0   0.0   0.0   0.0  \n",
       "3   0.0   0.0   0.0   0.0  \n",
       "4   0.0   0.0   0.0   0.0  \n",
       "\n",
       "[5 rows x 4000 columns]"
      ]
     },
     "execution_count": 7,
     "metadata": {},
     "output_type": "execute_result"
    }
   ],
   "source": [
    "print(rict_df.shape)\n",
    "rict_df.head()"
   ]
  },
  {
   "cell_type": "markdown",
   "id": "3ad506b5",
   "metadata": {},
   "source": [
    "## Make training df"
   ]
  },
  {
   "cell_type": "code",
   "execution_count": 8,
   "id": "1972c165",
   "metadata": {},
   "outputs": [
    {
     "data": {
      "text/html": [
       "<div>\n",
       "<style scoped>\n",
       "    .dataframe tbody tr th:only-of-type {\n",
       "        vertical-align: middle;\n",
       "    }\n",
       "\n",
       "    .dataframe tbody tr th {\n",
       "        vertical-align: top;\n",
       "    }\n",
       "\n",
       "    .dataframe thead th {\n",
       "        text-align: right;\n",
       "    }\n",
       "</style>\n",
       "<table border=\"1\" class=\"dataframe\">\n",
       "  <thead>\n",
       "    <tr style=\"text-align: right;\">\n",
       "      <th></th>\n",
       "      <th>0</th>\n",
       "      <th>1</th>\n",
       "      <th>2</th>\n",
       "      <th>3</th>\n",
       "      <th>4</th>\n",
       "      <th>5</th>\n",
       "      <th>6</th>\n",
       "      <th>0</th>\n",
       "      <th>1</th>\n",
       "      <th>2</th>\n",
       "      <th>3</th>\n",
       "      <th>4</th>\n",
       "      <th>5</th>\n",
       "      <th>6</th>\n",
       "    </tr>\n",
       "  </thead>\n",
       "  <tbody>\n",
       "    <tr>\n",
       "      <th>0</th>\n",
       "      <td>1.061179</td>\n",
       "      <td>1.017361</td>\n",
       "      <td>1.114077</td>\n",
       "      <td>1.096296</td>\n",
       "      <td>1.147843</td>\n",
       "      <td>1.121544</td>\n",
       "      <td>1.109880</td>\n",
       "      <td>1.104496</td>\n",
       "      <td>1.065481</td>\n",
       "      <td>1.096309</td>\n",
       "      <td>1.066983</td>\n",
       "      <td>1.033309</td>\n",
       "      <td>1.050900</td>\n",
       "      <td>1.020680</td>\n",
       "    </tr>\n",
       "    <tr>\n",
       "      <th>1</th>\n",
       "      <td>1.036253</td>\n",
       "      <td>0.968635</td>\n",
       "      <td>1.059771</td>\n",
       "      <td>1.021505</td>\n",
       "      <td>1.105764</td>\n",
       "      <td>1.083047</td>\n",
       "      <td>1.038855</td>\n",
       "      <td>1.070832</td>\n",
       "      <td>1.069529</td>\n",
       "      <td>1.116270</td>\n",
       "      <td>1.065764</td>\n",
       "      <td>0.971102</td>\n",
       "      <td>1.073872</td>\n",
       "      <td>1.043329</td>\n",
       "    </tr>\n",
       "    <tr>\n",
       "      <th>2</th>\n",
       "      <td>1.073106</td>\n",
       "      <td>1.013525</td>\n",
       "      <td>1.078420</td>\n",
       "      <td>1.078318</td>\n",
       "      <td>1.058356</td>\n",
       "      <td>1.081180</td>\n",
       "      <td>1.069371</td>\n",
       "      <td>1.021953</td>\n",
       "      <td>1.009902</td>\n",
       "      <td>0.998641</td>\n",
       "      <td>1.011728</td>\n",
       "      <td>0.992180</td>\n",
       "      <td>1.027361</td>\n",
       "      <td>1.014699</td>\n",
       "    </tr>\n",
       "    <tr>\n",
       "      <th>3</th>\n",
       "      <td>0.970642</td>\n",
       "      <td>0.959467</td>\n",
       "      <td>0.993976</td>\n",
       "      <td>0.988432</td>\n",
       "      <td>1.011027</td>\n",
       "      <td>1.045294</td>\n",
       "      <td>0.961510</td>\n",
       "      <td>1.018994</td>\n",
       "      <td>0.991405</td>\n",
       "      <td>1.013847</td>\n",
       "      <td>1.043583</td>\n",
       "      <td>0.970549</td>\n",
       "      <td>1.035323</td>\n",
       "      <td>1.035490</td>\n",
       "    </tr>\n",
       "    <tr>\n",
       "      <th>4</th>\n",
       "      <td>0.957931</td>\n",
       "      <td>0.932092</td>\n",
       "      <td>0.951927</td>\n",
       "      <td>0.953285</td>\n",
       "      <td>0.935990</td>\n",
       "      <td>0.973522</td>\n",
       "      <td>0.945293</td>\n",
       "      <td>1.026853</td>\n",
       "      <td>1.005429</td>\n",
       "      <td>1.053537</td>\n",
       "      <td>1.052560</td>\n",
       "      <td>1.000330</td>\n",
       "      <td>1.069433</td>\n",
       "      <td>1.061703</td>\n",
       "    </tr>\n",
       "  </tbody>\n",
       "</table>\n",
       "</div>"
      ],
      "text/plain": [
       "          0         1         2         3         4         5         6  \\\n",
       "0  1.061179  1.017361  1.114077  1.096296  1.147843  1.121544  1.109880   \n",
       "1  1.036253  0.968635  1.059771  1.021505  1.105764  1.083047  1.038855   \n",
       "2  1.073106  1.013525  1.078420  1.078318  1.058356  1.081180  1.069371   \n",
       "3  0.970642  0.959467  0.993976  0.988432  1.011027  1.045294  0.961510   \n",
       "4  0.957931  0.932092  0.951927  0.953285  0.935990  0.973522  0.945293   \n",
       "\n",
       "          0         1         2         3         4         5         6  \n",
       "0  1.104496  1.065481  1.096309  1.066983  1.033309  1.050900  1.020680  \n",
       "1  1.070832  1.069529  1.116270  1.065764  0.971102  1.073872  1.043329  \n",
       "2  1.021953  1.009902  0.998641  1.011728  0.992180  1.027361  1.014699  \n",
       "3  1.018994  0.991405  1.013847  1.043583  0.970549  1.035323  1.035490  \n",
       "4  1.026853  1.005429  1.053537  1.052560  1.000330  1.069433  1.061703  "
      ]
     },
     "execution_count": 8,
     "metadata": {},
     "output_type": "execute_result"
    }
   ],
   "source": [
    "x_train = rict_df.copy(deep=True).transpose()\n",
    "x_train.head()"
   ]
  },
  {
   "cell_type": "markdown",
   "id": "175d3c12",
   "metadata": {},
   "source": [
    "## ML Modeling"
   ]
  },
  {
   "cell_type": "code",
   "execution_count": 9,
   "id": "dbd5b9b2",
   "metadata": {},
   "outputs": [],
   "source": [
    "# Machine learning\n",
    "from sklearn.model_selection import train_test_split\n",
    "from sklearn import model_selection, tree, preprocessing, metrics, linear_model\n",
    "from sklearn.svm import LinearSVC\n",
    "from sklearn.ensemble import GradientBoostingClassifier\n",
    "from sklearn.neighbors import KNeighborsClassifier\n",
    "from sklearn.naive_bayes import GaussianNB\n",
    "from sklearn.linear_model import LinearRegression, LogisticRegression, SGDClassifier\n",
    "from sklearn.tree import DecisionTreeClassifier"
   ]
  },
  {
   "cell_type": "code",
   "execution_count": 1,
   "id": "bf879f30",
   "metadata": {},
   "outputs": [],
   "source": [
    "# Standard model fitting\n",
    "\n",
    "def fit_ml_algo(algo, x_train, y_train, cv):\n",
    "    '''Runs given algorithm and returns the accuracy metrics'''\n",
    "    \n",
    "    model = algo.fit(x_train, y_train)\n",
    "    acc = round(model.score(x_train, y_train) * 100, 2)\n",
    "    # Cross Validation \n",
    "    train_pred = model_selection.cross_val_predict(algo, \n",
    "                                                  x_train, \n",
    "                                                  y_train, \n",
    "                                                  cv=cv, \n",
    "                                                  n_jobs = -1)\n",
    "    # Cross-validation accuracy metric\n",
    "    acc_cv = round(metrics.accuracy_score(y_train, train_pred) * 100, 2)\n",
    "    \n",
    "    return train_pred, acc, acc_cv"
   ]
  },
  {
   "cell_type": "markdown",
   "id": "86cd7ad6",
   "metadata": {},
   "source": [
    "## Regression\n",
    "> https://medium.com/analytics-vidhya/5-regression-algorithms-you-need-to-know-theory-implementation-37993382122d\n",
    "1. Linear Regression\n",
    "2. Neural Network Regression --> Use a linear activation function on the last layer\n",
    "3. Decision Tree Regression\n",
    "4. LASSO Regression --> Good for data that shows heavy multicollinearity (heavy correlation of features with each other)\n",
    "5. Rdige Regression --> Also good for datasets that have an abundant amount of featuesr which are not indepdent (collinearity) from one another\n",
    "6. ElasticNet Regression\n",
    "> https://www.jigsawacademy.com/popular-regression-algorithms-ml/\n",
    "1. Random Forest\n",
    "2. SVM\n",
    "3. Gaussian Regression\n",
    "4. Polynomial Regression\n",
    "> https://scikit-learn.org/stable/modules/model_evaluation.html#regression-metrics\n",
    "- Metrics we care about ^^\n",
    "> https://towardsdatascience.com/cyclical-features-encoding-its-about-time-ce23581845ca\n",
    "- Could do this to encode the time series with the data..."
   ]
  },
  {
   "cell_type": "code",
   "execution_count": 14,
   "id": "86dc1176",
   "metadata": {},
   "outputs": [],
   "source": [
    "X_train = np.transpose(x_train)\n",
    "y_train_reg = reg_labels_npy"
   ]
  },
  {
   "cell_type": "markdown",
   "id": "33d5c771",
   "metadata": {},
   "source": [
    "## Random Forest"
   ]
  },
  {
   "cell_type": "code",
   "execution_count": 28,
   "id": "53b4f075",
   "metadata": {},
   "outputs": [
    {
     "name": "stdout",
     "output_type": "stream",
     "text": [
      "ML Predictions:\n",
      "[  3.43   0.     0.   303.91   3.43   0.     0.     0.   266.77   0.\n",
      "   0.   265.97   0.     0.  ]\n",
      "\n",
      "Ground Truth:\n",
      "[  0.   0.   0. 343.   0.   0.   0.   0. 263.   0.   0. 263.   0.   0.]\n",
      "\n",
      "Accuracy: 99.22\n"
     ]
    }
   ],
   "source": [
    "from sklearn.ensemble import RandomForestRegressor\n",
    "model = RandomForestRegressor()\n",
    "model.fit(X_train, y_train_reg)\n",
    "train_pred = model.predict(X_train)\n",
    "\n",
    "print(\"ML Predictions:\")\n",
    "print(train_pred)\n",
    "print(\"\\nGround Truth:\")\n",
    "print(y_train_reg)\n",
    "print(f\"\\nAccuracy: {round(model.score(X_train, y_train_reg) * 100, 2)}\")"
   ]
  },
  {
   "cell_type": "markdown",
   "id": "ef485772",
   "metadata": {},
   "source": [
    "Ought to look at some more informative metrics besides just accuracy, especially since this dataset is very sparse (e.g. if we predict no stroke occur we would still get high accuracy since so few stroke occur).  Need more data to do anything substantial.  __Good accuracy but main concern is overfitting, but I have no way to test this with only 2 trials of data.__"
   ]
  },
  {
   "cell_type": "markdown",
   "id": "5e72d965",
   "metadata": {},
   "source": [
    "## LASSO Regression"
   ]
  },
  {
   "cell_type": "code",
   "execution_count": 29,
   "id": "23597ead",
   "metadata": {},
   "outputs": [
    {
     "name": "stdout",
     "output_type": "stream",
     "text": [
      "ML Predictions:\n",
      "[ 4.06619344e+00  2.95715256e+00  2.02649554e+00  3.36799217e+02\n",
      "  2.46491820e+00 -2.06867086e+00 -3.52540983e+00 -5.61155060e-02\n",
      "  2.63682130e+02 -8.86686436e-01 -1.58154981e+00  2.64312430e+02\n",
      "  9.02188538e-01 -9.22930689e-02]\n",
      "\n",
      "Ground Truth:\n",
      "[  0.   0.   0. 343.   0.   0.   0.   0. 263.   0.   0. 263.   0.   0.]\n",
      "\n",
      "Accuracy: 99.95\n"
     ]
    },
    {
     "name": "stderr",
     "output_type": "stream",
     "text": [
      "C:\\Users\\kdmen\\miniconda3\\lib\\site-packages\\sklearn\\linear_model\\_coordinate_descent.py:648: ConvergenceWarning: Objective did not converge. You might want to increase the number of iterations, check the scale of the features or consider increasing regularisation. Duality gap: 2.187e+02, tolerance: 2.020e+01\n",
      "  model = cd_fast.enet_coordinate_descent(\n"
     ]
    }
   ],
   "source": [
    "from sklearn.linear_model import LassoCV\n",
    "model = LassoCV()\n",
    "model.fit(X_train, y_train_reg)\n",
    "train_pred = model.predict(X_train)\n",
    "\n",
    "print(\"ML Predictions:\")\n",
    "print(train_pred)\n",
    "print(\"\\nGround Truth:\")\n",
    "print(y_train_reg)\n",
    "print(f\"\\nAccuracy: {round(model.score(X_train, y_train_reg) * 100, 2)}\")"
   ]
  },
  {
   "cell_type": "code",
   "execution_count": 30,
   "id": "7b7e42fc",
   "metadata": {},
   "outputs": [
    {
     "name": "stdout",
     "output_type": "stream",
     "text": [
      "ML Predictions:\n",
      "[ 32.66270264  -2.58082659   4.32832252 248.2312037   57.47264266\n",
      " -12.66758408  -7.75493658 -22.45318082 291.31659592  19.02932844\n",
      " -18.68029234 268.63907098   2.02238986   9.4345637 ]\n",
      "\n",
      "Ground Truth:\n",
      "[  0.   0.   0. 343.   0.   0.   0.   0. 263.   0.   0. 263.   0.   0.]\n",
      "\n",
      "Accuracy: 92.21\n"
     ]
    }
   ],
   "source": [
    "from sklearn.linear_model import RidgeCV\n",
    "model = RidgeCV()\n",
    "model.fit(X_train, y_train_reg)\n",
    "train_pred = model.predict(X_train)\n",
    "\n",
    "print(\"ML Predictions:\")\n",
    "print(train_pred)\n",
    "print(\"\\nGround Truth:\")\n",
    "print(y_train_reg)\n",
    "print(f\"\\nAccuracy: {round(model.score(X_train, y_train_reg) * 100, 2)}\")"
   ]
  },
  {
   "cell_type": "markdown",
   "id": "71651ed7",
   "metadata": {},
   "source": [
    "## ElasticNet Regression\n",
    ">Does not converge, do not run"
   ]
  },
  {
   "cell_type": "code",
   "execution_count": null,
   "id": "04ece225",
   "metadata": {},
   "outputs": [],
   "source": [
    "#from sklearn.linear_model import ElasticNetCV\n",
    "#model = ElasticNetCV()\n",
    "#model.fit(X_train, y_train_reg)\n",
    "#train_pred = model.predict(X_train)\n",
    "\n",
    "#print(\"ML Predictions:\")\n",
    "#print(train_pred)\n",
    "#print(\"\\nGround Truth:\")\n",
    "#print(y_train_reg)\n",
    "#print(f\"\\nAccuracy: {round(model.score(X_train, y_train_reg) * 100, 2)}\")"
   ]
  },
  {
   "cell_type": "markdown",
   "id": "0c8c6300",
   "metadata": {},
   "source": [
    "# Classification\n",
    "> The way it is currently set up, it only tells you if the vessel stroked, but not when... if you want it to classify each point you have to change the input data shape, but I think that would remove the temporal relationships, assuming the model is using that."
   ]
  },
  {
   "cell_type": "code",
   "execution_count": 52,
   "id": "5e7847bf",
   "metadata": {},
   "outputs": [],
   "source": [
    "#reg_labels_npy = np.array([])\n",
    "#class_labels_df = pd.DataFrame()\n",
    "#class1D_labels_npy = np.array([])"
   ]
  },
  {
   "cell_type": "markdown",
   "id": "a6bfc987",
   "metadata": {},
   "source": [
    "## Logistc Regression (this is classification)"
   ]
  },
  {
   "cell_type": "code",
   "execution_count": 36,
   "id": "86302a92",
   "metadata": {
    "scrolled": true
   },
   "outputs": [
    {
     "name": "stderr",
     "output_type": "stream",
     "text": [
      "C:\\Users\\kdmen\\miniconda3\\lib\\site-packages\\sklearn\\model_selection\\_split.py:680: UserWarning: The least populated class in y has only 3 members, which is less than n_splits=10.\n",
      "  warnings.warn(\n"
     ]
    },
    {
     "name": "stdout",
     "output_type": "stream",
     "text": [
      "Accuracy: 100.0\n",
      "Accuracy CV 10-Fold: 100.0\n",
      "Run Time: 0:00:00.469448\n"
     ]
    }
   ],
   "source": [
    "# Logistic Regression\n",
    "start_time = time.time()\n",
    "\n",
    "#####################################################################\n",
    "\n",
    "#fit_ml_algo(algo, x_train, y_train, cv):   \n",
    "algo = LogisticRegression()\n",
    "X_train = np.transpose(x_train)\n",
    "y_train_class = np.transpose(class1D_labels_npy)\n",
    "cv = 10\n",
    "\n",
    "model = algo.fit(X_train, y_train_class)\n",
    "acc = round(model.score(X_train, y_train_class) * 100, 2)\n",
    "# Cross Validation \n",
    "train_pred = model_selection.cross_val_predict(algo, \n",
    "                                              X_train, \n",
    "                                              y_train_class, \n",
    "                                              cv=cv, \n",
    "                                              n_jobs = -1)\n",
    "# Cross-validation accuracy metric\n",
    "acc_cv = round(metrics.accuracy_score(y_train_class, train_pred) * 100, 2)\n",
    "\n",
    "#return train_pred, acc, acc_cv\n",
    "\n",
    "#####################################################################\n",
    "\n",
    "log_time = (time.time() - start_time)\n",
    "print(\"Accuracy: %s\" % acc)\n",
    "print(\"Accuracy CV 10-Fold: %s\" % acc_cv)\n",
    "print(\"Run Time: %s\" % datetime.timedelta(seconds=log_time))"
   ]
  },
  {
   "cell_type": "code",
   "execution_count": 37,
   "id": "1e2d582b",
   "metadata": {},
   "outputs": [
    {
     "data": {
      "text/plain": [
       "array([[11,  0],\n",
       "       [ 0,  3]], dtype=int64)"
      ]
     },
     "execution_count": 37,
     "metadata": {},
     "output_type": "execute_result"
    }
   ],
   "source": [
    "metrics.confusion_matrix(y_train_class, train_pred)"
   ]
  },
  {
   "cell_type": "code",
   "execution_count": 38,
   "id": "28b0be08",
   "metadata": {},
   "outputs": [
    {
     "data": {
      "text/plain": [
       "array([0., 0., 0., 1., 0., 0., 0., 0., 1., 0., 0., 1., 0., 0.])"
      ]
     },
     "execution_count": 38,
     "metadata": {},
     "output_type": "execute_result"
    }
   ],
   "source": [
    "train_pred"
   ]
  },
  {
   "cell_type": "markdown",
   "id": "ca2b5080",
   "metadata": {},
   "source": [
    "Also logistic regression but using my function for comparison"
   ]
  },
  {
   "cell_type": "code",
   "execution_count": 39,
   "id": "2ef8f1aa",
   "metadata": {},
   "outputs": [
    {
     "name": "stderr",
     "output_type": "stream",
     "text": [
      "C:\\Users\\kdmen\\miniconda3\\lib\\site-packages\\sklearn\\model_selection\\_split.py:680: UserWarning: The least populated class in y has only 3 members, which is less than n_splits=10.\n",
      "  warnings.warn(\n"
     ]
    },
    {
     "name": "stdout",
     "output_type": "stream",
     "text": [
      "Accuracy: 100.0\n",
      "Accuracy CV 10-Fold: 100.0\n",
      "Run Time: 0:00:00.574094\n"
     ]
    }
   ],
   "source": [
    "# Logistic Regression\n",
    "start_time = time.time()\n",
    "train_pred_log, acc_log, acc_cv_log = fit_ml_algo(LogisticRegression(), X_train, y_train_class, 10)\n",
    "log_time = (time.time() - start_time)\n",
    "print(\"Accuracy: %s\" % acc_log)\n",
    "print(\"Accuracy CV 10-Fold: %s\" % acc_cv_log)\n",
    "print(\"Run Time: %s\" % datetime.timedelta(seconds=log_time))"
   ]
  },
  {
   "cell_type": "markdown",
   "id": "7f831bbb",
   "metadata": {},
   "source": [
    "## K-Nearest Neighbours\n"
   ]
  },
  {
   "cell_type": "code",
   "execution_count": 40,
   "id": "64d4b7ab",
   "metadata": {},
   "outputs": [
    {
     "name": "stderr",
     "output_type": "stream",
     "text": [
      "C:\\Users\\kdmen\\miniconda3\\lib\\site-packages\\sklearn\\model_selection\\_split.py:680: UserWarning: The least populated class in y has only 3 members, which is less than n_splits=10.\n",
      "  warnings.warn(\n"
     ]
    },
    {
     "name": "stdout",
     "output_type": "stream",
     "text": [
      "Accuracy: 100.0\n",
      "Accuracy CV 10-Fold: 78.57\n",
      "Running Time: 0:00:00.778337\n"
     ]
    }
   ],
   "source": [
    "# k-Nearest Neighbours\n",
    "start_time = time.time()\n",
    "train_pred_knn, acc_knn, acc_cv_knn = fit_ml_algo(KNeighborsClassifier(), \n",
    "                                                  X_train, \n",
    "                                                  y_train_class, \n",
    "                                                  10)\n",
    "knn_time = (time.time() - start_time)\n",
    "print(\"Accuracy: %s\" % acc_knn)\n",
    "print(\"Accuracy CV 10-Fold: %s\" % acc_cv_knn)\n",
    "print(\"Running Time: %s\" % datetime.timedelta(seconds=knn_time))"
   ]
  },
  {
   "cell_type": "markdown",
   "id": "f899c353",
   "metadata": {},
   "source": [
    "## Gaussian Naive Bayes"
   ]
  },
  {
   "cell_type": "code",
   "execution_count": 41,
   "id": "4affd6ce",
   "metadata": {},
   "outputs": [
    {
     "name": "stderr",
     "output_type": "stream",
     "text": [
      "C:\\Users\\kdmen\\miniconda3\\lib\\site-packages\\sklearn\\model_selection\\_split.py:680: UserWarning: The least populated class in y has only 3 members, which is less than n_splits=10.\n",
      "  warnings.warn(\n"
     ]
    },
    {
     "name": "stdout",
     "output_type": "stream",
     "text": [
      "Accuracy: 100.0\n",
      "Accuracy CV 10-Fold: 78.57\n",
      "Running Time: 0:00:00.371423\n"
     ]
    }
   ],
   "source": [
    "# Gaussian Naive Bayes\n",
    "start_time = time.time()\n",
    "train_pred_gaussian, acc_gaussian, acc_cv_gaussian = fit_ml_algo(GaussianNB(), \n",
    "                                                                      X_train, \n",
    "                                                                      y_train_class, \n",
    "                                                                           10)\n",
    "gaussian_time = (time.time() - start_time)\n",
    "print(\"Accuracy: %s\" % acc_gaussian)\n",
    "print(\"Accuracy CV 10-Fold: %s\" % acc_cv_gaussian)\n",
    "print(\"Running Time: %s\" % datetime.timedelta(seconds=gaussian_time))"
   ]
  },
  {
   "cell_type": "markdown",
   "id": "a3942917",
   "metadata": {},
   "source": [
    "## Linear SVC"
   ]
  },
  {
   "cell_type": "code",
   "execution_count": 43,
   "id": "ff7b3152",
   "metadata": {},
   "outputs": [
    {
     "name": "stderr",
     "output_type": "stream",
     "text": [
      "C:\\Users\\kdmen\\miniconda3\\lib\\site-packages\\sklearn\\model_selection\\_split.py:680: UserWarning: The least populated class in y has only 3 members, which is less than n_splits=10.\n",
      "  warnings.warn(\n"
     ]
    },
    {
     "name": "stdout",
     "output_type": "stream",
     "text": [
      "Accuracy: 100.0\n",
      "Accuracy CV 10-Fold: 100.0\n",
      "Running Time: 0:00:00.576586\n"
     ]
    }
   ],
   "source": [
    "# Linear SVC\n",
    "start_time = time.time()\n",
    "train_pred_svc, acc_linear_svc, acc_cv_linear_svc = fit_ml_algo(LinearSVC(),\n",
    "                                                                X_train, \n",
    "                                                                y_train_class, \n",
    "                                                                10)\n",
    "linear_svc_time = (time.time() - start_time)\n",
    "print(\"Accuracy: %s\" % acc_linear_svc)\n",
    "print(\"Accuracy CV 10-Fold: %s\" % acc_cv_linear_svc)\n",
    "print(\"Running Time: %s\" % datetime.timedelta(seconds=linear_svc_time))"
   ]
  },
  {
   "cell_type": "markdown",
   "id": "84a7c1d8",
   "metadata": {},
   "source": [
    "## Stochastic Gradient Descent\n"
   ]
  },
  {
   "cell_type": "code",
   "execution_count": 44,
   "id": "4f6d6378",
   "metadata": {},
   "outputs": [
    {
     "name": "stderr",
     "output_type": "stream",
     "text": [
      "C:\\Users\\kdmen\\miniconda3\\lib\\site-packages\\sklearn\\model_selection\\_split.py:680: UserWarning: The least populated class in y has only 3 members, which is less than n_splits=10.\n",
      "  warnings.warn(\n"
     ]
    },
    {
     "name": "stdout",
     "output_type": "stream",
     "text": [
      "Accuracy: 100.0\n",
      "Accuracy CV 10-Fold: 92.86\n",
      "Running Time: 0:00:00.416241\n"
     ]
    }
   ],
   "source": [
    "# Stochastic Gradient Descent\n",
    "start_time = time.time()\n",
    "train_pred_sgd, acc_sgd, acc_cv_sgd = fit_ml_algo(SGDClassifier(), \n",
    "                                                  X_train, \n",
    "                                                  y_train_class,\n",
    "                                                  10)\n",
    "sgd_time = (time.time() - start_time)\n",
    "print(\"Accuracy: %s\" % acc_sgd)\n",
    "print(\"Accuracy CV 10-Fold: %s\" % acc_cv_sgd)\n",
    "print(\"Running Time: %s\" % datetime.timedelta(seconds=sgd_time))"
   ]
  },
  {
   "cell_type": "markdown",
   "id": "e0c78a80",
   "metadata": {},
   "source": [
    "## Decision Tree Classifier\n"
   ]
  },
  {
   "cell_type": "code",
   "execution_count": 45,
   "id": "bac15249",
   "metadata": {},
   "outputs": [
    {
     "name": "stderr",
     "output_type": "stream",
     "text": [
      "C:\\Users\\kdmen\\miniconda3\\lib\\site-packages\\sklearn\\model_selection\\_split.py:680: UserWarning: The least populated class in y has only 3 members, which is less than n_splits=10.\n",
      "  warnings.warn(\n"
     ]
    },
    {
     "name": "stdout",
     "output_type": "stream",
     "text": [
      "Accuracy: 100.0\n",
      "Accuracy CV 10-Fold: 85.71\n",
      "Running Time: 0:00:00.399156\n"
     ]
    }
   ],
   "source": [
    "# Decision Tree Classifier\n",
    "start_time = time.time()\n",
    "train_pred_dt, acc_dt, acc_cv_dt = fit_ml_algo(DecisionTreeClassifier(), \n",
    "                                                                X_train, \n",
    "                                                                y_train_class,\n",
    "                                                                10)\n",
    "dt_time = (time.time() - start_time)\n",
    "print(\"Accuracy: %s\" % acc_dt)\n",
    "print(\"Accuracy CV 10-Fold: %s\" % acc_cv_dt)\n",
    "print(\"Running Time: %s\" % datetime.timedelta(seconds=dt_time))"
   ]
  },
  {
   "cell_type": "markdown",
   "id": "3406556f",
   "metadata": {},
   "source": [
    "## Gradient Boosting Trees"
   ]
  },
  {
   "cell_type": "code",
   "execution_count": 46,
   "id": "9b28b425",
   "metadata": {},
   "outputs": [
    {
     "name": "stderr",
     "output_type": "stream",
     "text": [
      "C:\\Users\\kdmen\\miniconda3\\lib\\site-packages\\sklearn\\model_selection\\_split.py:680: UserWarning: The least populated class in y has only 3 members, which is less than n_splits=10.\n",
      "  warnings.warn(\n"
     ]
    },
    {
     "name": "stdout",
     "output_type": "stream",
     "text": [
      "Accuracy: 100.0\n",
      "Accuracy CV 10-Fold: 100.0\n",
      "Running Time: 0:00:01.354172\n"
     ]
    }
   ],
   "source": [
    "# Gradient Boosting Trees\n",
    "start_time = time.time()\n",
    "train_pred_gbt, acc_gbt, acc_cv_gbt = fit_ml_algo(GradientBoostingClassifier(), \n",
    "                                                                       X_train, \n",
    "                                                                       y_train_class,\n",
    "                                                                       10)\n",
    "gbt_time = (time.time() - start_time)\n",
    "print(\"Accuracy: %s\" % acc_gbt)\n",
    "print(\"Accuracy CV 10-Fold: %s\" % acc_cv_gbt)\n",
    "print(\"Running Time: %s\" % datetime.timedelta(seconds=gbt_time))"
   ]
  },
  {
   "cell_type": "code",
   "execution_count": null,
   "id": "29e84dd8",
   "metadata": {},
   "outputs": [],
   "source": []
  }
 ],
 "metadata": {
  "kernelspec": {
   "display_name": "Python 3 (ipykernel)",
   "language": "python",
   "name": "python3"
  },
  "language_info": {
   "codemirror_mode": {
    "name": "ipython",
    "version": 3
   },
   "file_extension": ".py",
   "mimetype": "text/x-python",
   "name": "python",
   "nbconvert_exporter": "python",
   "pygments_lexer": "ipython3",
   "version": "3.9.5"
  }
 },
 "nbformat": 4,
 "nbformat_minor": 5
}
