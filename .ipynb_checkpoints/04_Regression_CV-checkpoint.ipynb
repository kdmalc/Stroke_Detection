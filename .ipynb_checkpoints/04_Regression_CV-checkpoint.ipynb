{
 "cells": [
  {
   "cell_type": "markdown",
   "id": "58cb7c57",
   "metadata": {},
   "source": [
    "> __Purpose__: To run various regression ML algorithms, find best performers, and further optimize by tuning the hyperparameters of successful models.\n",
    "<br>\n",
    "\n",
    "> To Do: \n",
    " -  Go through and read assumptions of each model, for which should be most applicable\n",
    " - Grid/random search?\n",
    " - Functionalize current code so it can easily scale up for more data"
   ]
  },
  {
   "cell_type": "code",
   "execution_count": 1,
   "id": "6c0cb3f8",
   "metadata": {},
   "outputs": [],
   "source": [
    "import pandas as pd\n",
    "import numpy as np\n",
    "from scipy.io import loadmat\n",
    "import matplotlib.pyplot as plt\n",
    "import matplotlib.image as mpimg\n",
    "import time\n",
    "import datetime\n",
    "import os\n",
    "\n",
    "title_font_size = 30\n",
    "label_font_size = 20\n",
    "\n",
    "plt.rc('font', size=title_font_size) #controls default text size\n",
    "plt.rc('axes', titlesize=title_font_size) #fontsize of the title\n",
    "plt.rc('axes', labelsize=label_font_size) #fontsize of the x and y labels\n",
    "plt.rc('xtick', labelsize=label_font_size) #fontsize of the x tick labels\n",
    "plt.rc('ytick', labelsize=label_font_size) #fontsize of the y tick labels\n",
    "plt.rc('legend', fontsize=label_font_size) #fontsize of the legend"
   ]
  },
  {
   "cell_type": "code",
   "execution_count": 2,
   "id": "51e26525",
   "metadata": {},
   "outputs": [],
   "source": [
    "# This really ought to be functionalized, especially as more data comes in\n",
    "\n",
    "# RAW DATA FILES\n",
    "mat_94b = loadmat('data_94b.mat')\n",
    "mat_95q = loadmat('data_95q.mat')\n",
    "# LABELS\n",
    "y_train_reg95 = np.load(os.path.join('Labels', '95_reg.npy'))\n",
    "y_train_reg94b = np.load(os.path.join('Labels', '94b_reg.npy'))\n",
    "\n",
    "# Matrix inits\n",
    "all_mats = [mat_94b, mat_95q]\n",
    "mat_names = [\"94b\", \"95\"]\n",
    "num_mats = len(all_mats)\n",
    "\n",
    "num_vessels_lst = [0] * num_mats\n",
    "m_rICT = [0] * num_mats\n",
    "t = [0] * num_mats\n",
    "\n",
    "labels = [0] * num_mats\n",
    "\n",
    "# Find max vector sizes... there's probably a better way to do this \n",
    "running_max = 0\n",
    "for i, mat in enumerate(all_mats):\n",
    "    num_vessels_lst[i] = mat['names'].shape[1]\n",
    "    mat_name = mat_names[i]\n",
    "    \n",
    "    m_rICT[i] = mat['rICT']\n",
    "    # Need to find what the longest rICT vector is\n",
    "    if m_rICT[i].shape[0] > running_max:\n",
    "        running_max = m_rICT[i].shape[0]\n",
    "    #m_ROI[i] = mat['ROI']  # I don't think I actually need this, for now at least\n",
    "    m_t = mat['t']\n",
    "    t[i] = m_t.reshape((m_t.shape[1]))\n",
    "    \n",
    "    y_train_reg = np.load(os.path.join('Labels', mat_name + '_reg.npy'))\n",
    "    # Do I still need this? ... No but would have to refactor other parts of the code\n",
    "    labels[i] = y_train_reg"
   ]
  },
  {
   "cell_type": "code",
   "execution_count": 3,
   "id": "3d9c1198",
   "metadata": {},
   "outputs": [
    {
     "name": "stdout",
     "output_type": "stream",
     "text": [
      "(7,)\n"
     ]
    }
   ],
   "source": [
    "print(y_train_reg.shape)"
   ]
  },
  {
   "cell_type": "code",
   "execution_count": 4,
   "id": "84917c50",
   "metadata": {},
   "outputs": [
    {
     "name": "stdout",
     "output_type": "stream",
     "text": [
      "0: delta t is 0.14110399999998663\n",
      "1: delta t is 0.00736\n"
     ]
    }
   ],
   "source": [
    "rict_df = pd.DataFrame()\n",
    "reg_labels_npy = np.array([])\n",
    "\n",
    "# Create the rict_df of input, and the labels_df \n",
    "for i in range(len(num_vessels_lst)):\n",
    "    # First, zero pad to reach max vector length\n",
    "    if running_max - m_rICT[i].shape[0] > 0:\n",
    "        zp_mat = np.zeros(((running_max - m_rICT[i].shape[0]), num_vessels_lst[i]))\n",
    "        zp_rict = np.concatenate((m_rICT[i], zp_mat))\n",
    "        \n",
    "        zp_class = np.concatenate((np.reshape(labels[1], (labels[1].shape[0], 1)), np.transpose(zp_mat)), axis=1)\n",
    "    else:\n",
    "        zp_rict = m_rICT[i]\n",
    "        zp_class = labels[1]\n",
    "        \n",
    "    # Now safely append to dataframe\n",
    "    rict_df = pd.concat((rict_df, pd.DataFrame(np.transpose(zp_rict)))) #, axis=1\n",
    "    # Labels\n",
    "    reg_labels_npy = np.concatenate((reg_labels_npy, labels[i]))\n",
    "    \n",
    "    print(f\"{i}: delta t is {(t[i][25] - t[i][0])/25}\")\n",
    "    \n",
    "rict_df.reset_index(inplace=True, drop=True)"
   ]
  },
  {
   "cell_type": "code",
   "execution_count": 5,
   "id": "1a67b1eb",
   "metadata": {},
   "outputs": [
    {
     "name": "stdout",
     "output_type": "stream",
     "text": [
      "(14, 4000)\n"
     ]
    },
    {
     "data": {
      "text/html": [
       "<div>\n",
       "<style scoped>\n",
       "    .dataframe tbody tr th:only-of-type {\n",
       "        vertical-align: middle;\n",
       "    }\n",
       "\n",
       "    .dataframe tbody tr th {\n",
       "        vertical-align: top;\n",
       "    }\n",
       "\n",
       "    .dataframe thead th {\n",
       "        text-align: right;\n",
       "    }\n",
       "</style>\n",
       "<table border=\"1\" class=\"dataframe\">\n",
       "  <thead>\n",
       "    <tr style=\"text-align: right;\">\n",
       "      <th></th>\n",
       "      <th>0</th>\n",
       "      <th>1</th>\n",
       "      <th>2</th>\n",
       "      <th>3</th>\n",
       "      <th>4</th>\n",
       "      <th>5</th>\n",
       "      <th>6</th>\n",
       "      <th>7</th>\n",
       "      <th>8</th>\n",
       "      <th>9</th>\n",
       "      <th>...</th>\n",
       "      <th>3990</th>\n",
       "      <th>3991</th>\n",
       "      <th>3992</th>\n",
       "      <th>3993</th>\n",
       "      <th>3994</th>\n",
       "      <th>3995</th>\n",
       "      <th>3996</th>\n",
       "      <th>3997</th>\n",
       "      <th>3998</th>\n",
       "      <th>3999</th>\n",
       "    </tr>\n",
       "  </thead>\n",
       "  <tbody>\n",
       "    <tr>\n",
       "      <th>0</th>\n",
       "      <td>1.061179</td>\n",
       "      <td>1.036253</td>\n",
       "      <td>1.073106</td>\n",
       "      <td>0.970642</td>\n",
       "      <td>0.957931</td>\n",
       "      <td>0.929883</td>\n",
       "      <td>0.968243</td>\n",
       "      <td>0.960815</td>\n",
       "      <td>0.965519</td>\n",
       "      <td>1.005626</td>\n",
       "      <td>...</td>\n",
       "      <td>0.0</td>\n",
       "      <td>0.0</td>\n",
       "      <td>0.0</td>\n",
       "      <td>0.0</td>\n",
       "      <td>0.0</td>\n",
       "      <td>0.0</td>\n",
       "      <td>0.0</td>\n",
       "      <td>0.0</td>\n",
       "      <td>0.0</td>\n",
       "      <td>0.0</td>\n",
       "    </tr>\n",
       "    <tr>\n",
       "      <th>1</th>\n",
       "      <td>1.017361</td>\n",
       "      <td>0.968635</td>\n",
       "      <td>1.013525</td>\n",
       "      <td>0.959467</td>\n",
       "      <td>0.932092</td>\n",
       "      <td>0.962371</td>\n",
       "      <td>0.985138</td>\n",
       "      <td>0.994388</td>\n",
       "      <td>0.998228</td>\n",
       "      <td>1.001761</td>\n",
       "      <td>...</td>\n",
       "      <td>0.0</td>\n",
       "      <td>0.0</td>\n",
       "      <td>0.0</td>\n",
       "      <td>0.0</td>\n",
       "      <td>0.0</td>\n",
       "      <td>0.0</td>\n",
       "      <td>0.0</td>\n",
       "      <td>0.0</td>\n",
       "      <td>0.0</td>\n",
       "      <td>0.0</td>\n",
       "    </tr>\n",
       "    <tr>\n",
       "      <th>2</th>\n",
       "      <td>1.114077</td>\n",
       "      <td>1.059771</td>\n",
       "      <td>1.078420</td>\n",
       "      <td>0.993976</td>\n",
       "      <td>0.951927</td>\n",
       "      <td>0.979590</td>\n",
       "      <td>1.005449</td>\n",
       "      <td>1.010853</td>\n",
       "      <td>1.028106</td>\n",
       "      <td>1.053987</td>\n",
       "      <td>...</td>\n",
       "      <td>0.0</td>\n",
       "      <td>0.0</td>\n",
       "      <td>0.0</td>\n",
       "      <td>0.0</td>\n",
       "      <td>0.0</td>\n",
       "      <td>0.0</td>\n",
       "      <td>0.0</td>\n",
       "      <td>0.0</td>\n",
       "      <td>0.0</td>\n",
       "      <td>0.0</td>\n",
       "    </tr>\n",
       "    <tr>\n",
       "      <th>3</th>\n",
       "      <td>1.096296</td>\n",
       "      <td>1.021505</td>\n",
       "      <td>1.078318</td>\n",
       "      <td>0.988432</td>\n",
       "      <td>0.953285</td>\n",
       "      <td>0.961240</td>\n",
       "      <td>0.990814</td>\n",
       "      <td>0.992204</td>\n",
       "      <td>1.000505</td>\n",
       "      <td>1.047153</td>\n",
       "      <td>...</td>\n",
       "      <td>0.0</td>\n",
       "      <td>0.0</td>\n",
       "      <td>0.0</td>\n",
       "      <td>0.0</td>\n",
       "      <td>0.0</td>\n",
       "      <td>0.0</td>\n",
       "      <td>0.0</td>\n",
       "      <td>0.0</td>\n",
       "      <td>0.0</td>\n",
       "      <td>0.0</td>\n",
       "    </tr>\n",
       "    <tr>\n",
       "      <th>4</th>\n",
       "      <td>1.147843</td>\n",
       "      <td>1.105764</td>\n",
       "      <td>1.058356</td>\n",
       "      <td>1.011027</td>\n",
       "      <td>0.935990</td>\n",
       "      <td>0.957186</td>\n",
       "      <td>0.957919</td>\n",
       "      <td>0.988637</td>\n",
       "      <td>0.962370</td>\n",
       "      <td>1.026500</td>\n",
       "      <td>...</td>\n",
       "      <td>0.0</td>\n",
       "      <td>0.0</td>\n",
       "      <td>0.0</td>\n",
       "      <td>0.0</td>\n",
       "      <td>0.0</td>\n",
       "      <td>0.0</td>\n",
       "      <td>0.0</td>\n",
       "      <td>0.0</td>\n",
       "      <td>0.0</td>\n",
       "      <td>0.0</td>\n",
       "    </tr>\n",
       "  </tbody>\n",
       "</table>\n",
       "<p>5 rows × 4000 columns</p>\n",
       "</div>"
      ],
      "text/plain": [
       "       0         1         2         3         4         5         6     \\\n",
       "0  1.061179  1.036253  1.073106  0.970642  0.957931  0.929883  0.968243   \n",
       "1  1.017361  0.968635  1.013525  0.959467  0.932092  0.962371  0.985138   \n",
       "2  1.114077  1.059771  1.078420  0.993976  0.951927  0.979590  1.005449   \n",
       "3  1.096296  1.021505  1.078318  0.988432  0.953285  0.961240  0.990814   \n",
       "4  1.147843  1.105764  1.058356  1.011027  0.935990  0.957186  0.957919   \n",
       "\n",
       "       7         8         9     ...  3990  3991  3992  3993  3994  3995  \\\n",
       "0  0.960815  0.965519  1.005626  ...   0.0   0.0   0.0   0.0   0.0   0.0   \n",
       "1  0.994388  0.998228  1.001761  ...   0.0   0.0   0.0   0.0   0.0   0.0   \n",
       "2  1.010853  1.028106  1.053987  ...   0.0   0.0   0.0   0.0   0.0   0.0   \n",
       "3  0.992204  1.000505  1.047153  ...   0.0   0.0   0.0   0.0   0.0   0.0   \n",
       "4  0.988637  0.962370  1.026500  ...   0.0   0.0   0.0   0.0   0.0   0.0   \n",
       "\n",
       "   3996  3997  3998  3999  \n",
       "0   0.0   0.0   0.0   0.0  \n",
       "1   0.0   0.0   0.0   0.0  \n",
       "2   0.0   0.0   0.0   0.0  \n",
       "3   0.0   0.0   0.0   0.0  \n",
       "4   0.0   0.0   0.0   0.0  \n",
       "\n",
       "[5 rows x 4000 columns]"
      ]
     },
     "execution_count": 5,
     "metadata": {},
     "output_type": "execute_result"
    }
   ],
   "source": [
    "print(rict_df.shape)\n",
    "rict_df.head()"
   ]
  },
  {
   "cell_type": "markdown",
   "id": "3ad506b5",
   "metadata": {},
   "source": [
    "## Make training df"
   ]
  },
  {
   "cell_type": "code",
   "execution_count": 6,
   "id": "1972c165",
   "metadata": {
    "scrolled": true
   },
   "outputs": [
    {
     "data": {
      "text/html": [
       "<div>\n",
       "<style scoped>\n",
       "    .dataframe tbody tr th:only-of-type {\n",
       "        vertical-align: middle;\n",
       "    }\n",
       "\n",
       "    .dataframe tbody tr th {\n",
       "        vertical-align: top;\n",
       "    }\n",
       "\n",
       "    .dataframe thead th {\n",
       "        text-align: right;\n",
       "    }\n",
       "</style>\n",
       "<table border=\"1\" class=\"dataframe\">\n",
       "  <thead>\n",
       "    <tr style=\"text-align: right;\">\n",
       "      <th></th>\n",
       "      <th>0</th>\n",
       "      <th>1</th>\n",
       "      <th>2</th>\n",
       "      <th>3</th>\n",
       "      <th>4</th>\n",
       "      <th>5</th>\n",
       "      <th>6</th>\n",
       "      <th>7</th>\n",
       "      <th>8</th>\n",
       "      <th>9</th>\n",
       "      <th>10</th>\n",
       "      <th>11</th>\n",
       "      <th>12</th>\n",
       "      <th>13</th>\n",
       "    </tr>\n",
       "  </thead>\n",
       "  <tbody>\n",
       "    <tr>\n",
       "      <th>0</th>\n",
       "      <td>1.061179</td>\n",
       "      <td>1.017361</td>\n",
       "      <td>1.114077</td>\n",
       "      <td>1.096296</td>\n",
       "      <td>1.147843</td>\n",
       "      <td>1.121544</td>\n",
       "      <td>1.109880</td>\n",
       "      <td>1.104496</td>\n",
       "      <td>1.065481</td>\n",
       "      <td>1.096309</td>\n",
       "      <td>1.066983</td>\n",
       "      <td>1.033309</td>\n",
       "      <td>1.050900</td>\n",
       "      <td>1.020680</td>\n",
       "    </tr>\n",
       "    <tr>\n",
       "      <th>1</th>\n",
       "      <td>1.036253</td>\n",
       "      <td>0.968635</td>\n",
       "      <td>1.059771</td>\n",
       "      <td>1.021505</td>\n",
       "      <td>1.105764</td>\n",
       "      <td>1.083047</td>\n",
       "      <td>1.038855</td>\n",
       "      <td>1.070832</td>\n",
       "      <td>1.069529</td>\n",
       "      <td>1.116270</td>\n",
       "      <td>1.065764</td>\n",
       "      <td>0.971102</td>\n",
       "      <td>1.073872</td>\n",
       "      <td>1.043329</td>\n",
       "    </tr>\n",
       "    <tr>\n",
       "      <th>2</th>\n",
       "      <td>1.073106</td>\n",
       "      <td>1.013525</td>\n",
       "      <td>1.078420</td>\n",
       "      <td>1.078318</td>\n",
       "      <td>1.058356</td>\n",
       "      <td>1.081180</td>\n",
       "      <td>1.069371</td>\n",
       "      <td>1.021953</td>\n",
       "      <td>1.009902</td>\n",
       "      <td>0.998641</td>\n",
       "      <td>1.011728</td>\n",
       "      <td>0.992180</td>\n",
       "      <td>1.027361</td>\n",
       "      <td>1.014699</td>\n",
       "    </tr>\n",
       "    <tr>\n",
       "      <th>3</th>\n",
       "      <td>0.970642</td>\n",
       "      <td>0.959467</td>\n",
       "      <td>0.993976</td>\n",
       "      <td>0.988432</td>\n",
       "      <td>1.011027</td>\n",
       "      <td>1.045294</td>\n",
       "      <td>0.961510</td>\n",
       "      <td>1.018994</td>\n",
       "      <td>0.991405</td>\n",
       "      <td>1.013847</td>\n",
       "      <td>1.043583</td>\n",
       "      <td>0.970549</td>\n",
       "      <td>1.035323</td>\n",
       "      <td>1.035490</td>\n",
       "    </tr>\n",
       "    <tr>\n",
       "      <th>4</th>\n",
       "      <td>0.957931</td>\n",
       "      <td>0.932092</td>\n",
       "      <td>0.951927</td>\n",
       "      <td>0.953285</td>\n",
       "      <td>0.935990</td>\n",
       "      <td>0.973522</td>\n",
       "      <td>0.945293</td>\n",
       "      <td>1.026853</td>\n",
       "      <td>1.005429</td>\n",
       "      <td>1.053537</td>\n",
       "      <td>1.052560</td>\n",
       "      <td>1.000330</td>\n",
       "      <td>1.069433</td>\n",
       "      <td>1.061703</td>\n",
       "    </tr>\n",
       "  </tbody>\n",
       "</table>\n",
       "</div>"
      ],
      "text/plain": [
       "         0         1         2         3         4         5         6   \\\n",
       "0  1.061179  1.017361  1.114077  1.096296  1.147843  1.121544  1.109880   \n",
       "1  1.036253  0.968635  1.059771  1.021505  1.105764  1.083047  1.038855   \n",
       "2  1.073106  1.013525  1.078420  1.078318  1.058356  1.081180  1.069371   \n",
       "3  0.970642  0.959467  0.993976  0.988432  1.011027  1.045294  0.961510   \n",
       "4  0.957931  0.932092  0.951927  0.953285  0.935990  0.973522  0.945293   \n",
       "\n",
       "         7         8         9         10        11        12        13  \n",
       "0  1.104496  1.065481  1.096309  1.066983  1.033309  1.050900  1.020680  \n",
       "1  1.070832  1.069529  1.116270  1.065764  0.971102  1.073872  1.043329  \n",
       "2  1.021953  1.009902  0.998641  1.011728  0.992180  1.027361  1.014699  \n",
       "3  1.018994  0.991405  1.013847  1.043583  0.970549  1.035323  1.035490  \n",
       "4  1.026853  1.005429  1.053537  1.052560  1.000330  1.069433  1.061703  "
      ]
     },
     "execution_count": 6,
     "metadata": {},
     "output_type": "execute_result"
    }
   ],
   "source": [
    "x_train = rict_df.copy(deep=True).transpose()\n",
    "x_train.head()"
   ]
  },
  {
   "cell_type": "markdown",
   "id": "b98c2547",
   "metadata": {},
   "source": [
    "## Make train-test split\n"
   ]
  },
  {
   "cell_type": "code",
   "execution_count": 7,
   "id": "8882e44a",
   "metadata": {},
   "outputs": [],
   "source": [
    "x_train_t = np.transpose(x_train)\n",
    "y_train_reg = reg_labels_npy\n",
    "\n",
    "# Number of decimal points\n",
    "num_dps = 3\n",
    "\n",
    "acc_log = dict()"
   ]
  },
  {
   "cell_type": "code",
   "execution_count": 8,
   "id": "31991937",
   "metadata": {},
   "outputs": [],
   "source": [
    "# Need more data before I can actually do this\n",
    "\n",
    "from sklearn.model_selection import train_test_split\n",
    "\n",
    "## TRAIN / TEST\n",
    "# Stratify might be good to ensure that all classes are represented, I'm not sure if it'll do that by defualt\n",
    "X_train, X_test, y_train, y_test = train_test_split(\n",
    "    x_train_t, y_train_reg, test_size=0.3, random_state=42)\n",
    "\n",
    "## TRAIN / VAL\n",
    "X_train, X_val, y_train, y_val = train_test_split(\n",
    "    X_train, y_train, test_size=0.3, random_state=42)\n",
    "\n",
    "# NOW UPDATE THE REST OF THE CODE TO REFLECT THIS"
   ]
  },
  {
   "cell_type": "markdown",
   "id": "175d3c12",
   "metadata": {},
   "source": [
    "## ML Modeling"
   ]
  },
  {
   "cell_type": "code",
   "execution_count": 9,
   "id": "dbd5b9b2",
   "metadata": {},
   "outputs": [],
   "source": [
    "# Machine learning\n",
    "from sklearn import model_selection, tree, preprocessing, metrics, linear_model\n",
    "from sklearn.svm import LinearSVC\n",
    "from sklearn.ensemble import GradientBoostingClassifier\n",
    "from sklearn.neighbors import KNeighborsClassifier\n",
    "from sklearn.naive_bayes import GaussianNB\n",
    "from sklearn.linear_model import LinearRegression\n",
    "from sklearn.tree import DecisionTreeClassifier"
   ]
  },
  {
   "cell_type": "code",
   "execution_count": 10,
   "id": "bf879f30",
   "metadata": {},
   "outputs": [],
   "source": [
    "def fit_ml_algo(algo, x_train, y_train, cv):\n",
    "    '''Runs given algorithm and returns the accuracy metrics'''\n",
    "    \n",
    "    model = algo.fit(x_train, y_train)\n",
    "    acc = round(model.score(x_train, y_train) * 100, 2)\n",
    "    # Cross Validation \n",
    "    train_pred = model_selection.cross_val_predict(algo, \n",
    "                                                  x_train, \n",
    "                                                  y_train, \n",
    "                                                  cv=cv, \n",
    "                                                  n_jobs = -1)\n",
    "    # Cross-validation accuracy metric\n",
    "    acc_cv = round(metrics.accuracy_score(y_train, train_pred) * 100, 2)\n",
    "    \n",
    "    return train_pred, acc, acc_cv"
   ]
  },
  {
   "cell_type": "markdown",
   "id": "65fab301",
   "metadata": {},
   "source": [
    "Some things you could do, not sure if it's worth it / beneficial"
   ]
  },
  {
   "cell_type": "code",
   "execution_count": 11,
   "id": "07ad0698",
   "metadata": {},
   "outputs": [],
   "source": [
    "#from sklearn.preprocessing import StandardScaler\n",
    "#scalerX = StandardScaler().fit(X_train)\n",
    "#scalery = StandardScaler().fit(y_train)\n",
    "\n",
    "#X_train = scalerX.transform(X_train)\n",
    "#y_train = scalery.transform(y_train)\n",
    "#X_test = scalerX.transform(X_test)\n",
    "#y_test = scalery.transform(y_test)"
   ]
  },
  {
   "cell_type": "markdown",
   "id": "86cd7ad6",
   "metadata": {},
   "source": [
    "## Regression\n",
    "> https://medium.com/analytics-vidhya/5-regression-algorithms-you-need-to-know-theory-implementation-37993382122d\n",
    "1. Linear Regression\n",
    "2. Neural Network Regression --> Use a linear activation function on the last layer\n",
    "3. Decision Tree Regression\n",
    "4. LASSO Regression --> Good for data that shows heavy multicollinearity (heavy correlation of features with each other)\n",
    "5. Rdige Regression --> Also good for datasets that have an abundant amount of featuesr which are not indepdent (collinearity) from one another\n",
    "6. ElasticNet Regression\n",
    "> https://www.jigsawacademy.com/popular-regression-algorithms-ml/\n",
    "1. Random Forest\n",
    "2. SVM\n",
    "3. Gaussian Regression\n",
    "4. Polynomial Regression\n",
    "> https://scikit-learn.org/stable/modules/model_evaluation.html#regression-metrics\n",
    "- Metrics we care about ^^\n",
    "> https://towardsdatascience.com/cyclical-features-encoding-its-about-time-ce23581845ca\n",
    "- Could do this to encode the time series with the data..."
   ]
  },
  {
   "cell_type": "markdown",
   "id": "ad124f0a",
   "metadata": {},
   "source": [
    "## Decision Tree\n",
    "> Should also try gradient boosting these\n",
    " - Decision trees tend to overfit on data with a large number of features. Getting the right ratio of samples to number of features is important, since a tree with few samples in high dimensional space is very likely to overfit.\n",
    " - Visualize your tree as you are training by using the export function. Use max_depth=3 as an initial tree depth to get a feel for how the tree is fitting to your data, and then increase the depth."
   ]
  },
  {
   "cell_type": "code",
   "execution_count": 12,
   "id": "65d5039b",
   "metadata": {},
   "outputs": [
    {
     "name": "stdout",
     "output_type": "stream",
     "text": [
      "ML Predictions:\n",
      "[263.   0.   0.   0.   0.   0.   0. 343.   0.]\n",
      "\n",
      "Ground Truth:\n",
      "[263.   0.   0.   0.   0.   0.   0. 343.   0.]\n",
      "\n",
      "Accuracy: 100.0\n"
     ]
    }
   ],
   "source": [
    "# https://scikit-learn.org/stable/modules/tree.html\n",
    "\n",
    "from sklearn import tree\n",
    "\n",
    "clf = tree.DecisionTreeRegressor()\n",
    "clf = clf.fit(X_train, y_train)\n",
    "train_pred = clf.predict(X_train)\n",
    "model_acc = round(clf.score(X_train, y_train) * 100, num_dps)\n",
    "\n",
    "print(\"ML Predictions:\")\n",
    "print(train_pred)\n",
    "print(\"\\nGround Truth:\")\n",
    "print(y_train)\n",
    "print(f\"\\nAccuracy: {model_acc}\")\n",
    "acc_log[\"Decision Tree\"] = model_acc"
   ]
  },
  {
   "cell_type": "markdown",
   "id": "33d5c771",
   "metadata": {},
   "source": [
    "## Random Forest"
   ]
  },
  {
   "cell_type": "code",
   "execution_count": 13,
   "id": "53b4f075",
   "metadata": {},
   "outputs": [
    {
     "name": "stdout",
     "output_type": "stream",
     "text": [
      "ML Predictions:\n",
      "[234.52   0.     3.43   2.63  23.21   5.26   0.   268.69   6.86]\n",
      "\n",
      "Ground Truth:\n",
      "[263.   0.   0.   0.   0.   0.   0. 343.   0.]\n",
      "\n",
      "Accuracy: 95.23\n"
     ]
    }
   ],
   "source": [
    "from sklearn.ensemble import RandomForestRegressor\n",
    "model = RandomForestRegressor()\n",
    "model.fit(X_train, y_train)\n",
    "train_pred = model.predict(X_train)\n",
    "model_acc = round(model.score(X_train, y_train) * 100, num_dps)\n",
    "\n",
    "print(\"ML Predictions:\")\n",
    "print(train_pred)\n",
    "print(\"\\nGround Truth:\")\n",
    "print(y_train)\n",
    "print(f\"\\nAccuracy: {model_acc}\")\n",
    "acc_log[\"Random Forest\"] = model_acc"
   ]
  },
  {
   "cell_type": "markdown",
   "id": "5e72d965",
   "metadata": {},
   "source": [
    "## LASSO Regression"
   ]
  },
  {
   "cell_type": "code",
   "execution_count": 14,
   "id": "23597ead",
   "metadata": {},
   "outputs": [
    {
     "name": "stdout",
     "output_type": "stream",
     "text": [
      "ML Predictions:\n",
      "[ 2.62618930e+02  1.43827135e+01  4.44118564e+01  3.34240140e+01\n",
      "  3.45940254e+01 -1.59049589e+01  1.62432751e-01  2.34177811e+02\n",
      " -1.86682403e+00]\n",
      "\n",
      "Ground Truth:\n",
      "[263.   0.   0.   0.   0.   0.   0. 343.   0.]\n",
      "\n",
      "Accuracy: 88.637\n"
     ]
    }
   ],
   "source": [
    "from sklearn.linear_model import LassoCV\n",
    "model = LassoCV()\n",
    "model.fit(X_train, y_train)\n",
    "train_pred = model.predict(X_train)\n",
    "model_acc = round(model.score(X_train, y_train) * 100, num_dps)\n",
    "\n",
    "print(\"ML Predictions:\")\n",
    "print(train_pred)\n",
    "print(\"\\nGround Truth:\")\n",
    "print(y_train)\n",
    "print(f\"\\nAccuracy: {model_acc}\")\n",
    "acc_log[\"LASSO\"] = model_acc"
   ]
  },
  {
   "cell_type": "markdown",
   "id": "52479020",
   "metadata": {},
   "source": [
    "## Ridge Regression"
   ]
  },
  {
   "cell_type": "code",
   "execution_count": 15,
   "id": "7b7e42fc",
   "metadata": {},
   "outputs": [
    {
     "name": "stdout",
     "output_type": "stream",
     "text": [
      "ML Predictions:\n",
      "[295.12321349   9.34227956   5.10550917  23.80465993  58.79141652\n",
      " -16.74191385 -19.34138687 257.61982448  -7.70360244]\n",
      "\n",
      "Ground Truth:\n",
      "[263.   0.   0.   0.   0.   0.   0. 343.   0.]\n",
      "\n",
      "Accuracy: 90.979\n"
     ]
    }
   ],
   "source": [
    "from sklearn.linear_model import RidgeCV\n",
    "model = RidgeCV()\n",
    "model.fit(X_train, y_train)\n",
    "train_pred = model.predict(X_train)\n",
    "model_acc = round(model.score(X_train, y_train) * 100, num_dps)\n",
    "\n",
    "print(\"ML Predictions:\")\n",
    "print(train_pred)\n",
    "print(\"\\nGround Truth:\")\n",
    "print(y_train)\n",
    "print(f\"\\nAccuracy: {model_acc}\")\n",
    "acc_log[\"Ridge\"] = model_acc"
   ]
  },
  {
   "cell_type": "markdown",
   "id": "949beeb6",
   "metadata": {},
   "source": [
    "## SVR\n",
    " - Support Vector Machine algorithms are not scale invariant, so it is highly recommended to scale your data. For example, scale each attribute on the input vector X to [0,1] or [-1,+1], or standardize it to have mean 0 and variance 1. Note that the same scaling must be applied to the test vector to obtain meaningful results. This can be done easily by using a Pipeline:"
   ]
  },
  {
   "cell_type": "code",
   "execution_count": 31,
   "id": "3538f911",
   "metadata": {},
   "outputs": [
    {
     "name": "stdout",
     "output_type": "stream",
     "text": [
      "ML Predictions:\n",
      "[ 2.62899905e+02  6.31339663e+00 -1.00104373e-01  2.80410491e+01\n",
      "  6.20746551e+01 -4.33190214e+00  1.00004206e-01  1.86873209e+02\n",
      "  1.00325637e-01]\n",
      "\n",
      "Ground Truth:\n",
      "[263.   0.   0.   0.   0.   0.   0. 343.   0.]\n",
      "\n",
      "Accuracy: 80.088\n"
     ]
    }
   ],
   "source": [
    "#https://scikit-learn.org/stable/modules/generated/sklearn.svm.SVR.html\n",
    "# Can vary kernel types, degrees, a few other boolean heuristics\n",
    "\n",
    "# Example\n",
    "from sklearn.svm import SVR\n",
    "\n",
    "# Default kernel (rbf) is trash and gives negative accuracy...\n",
    "model = SVR(kernel='linear')\n",
    "model.fit(X_train, y_train)\n",
    "train_pred = model.predict(X_train)\n",
    "model_acc = round(model.score(X_train, y_train) * 100, num_dps)\n",
    "\n",
    "print(\"ML Predictions:\")\n",
    "print(train_pred)\n",
    "print(\"\\nGround Truth:\")\n",
    "print(y_train)\n",
    "print(f\"\\nAccuracy: {model_acc}\")\n",
    "acc_log[\"Unscaled SVR\"] = model_acc"
   ]
  },
  {
   "cell_type": "code",
   "execution_count": 32,
   "id": "d924f334",
   "metadata": {},
   "outputs": [
    {
     "name": "stdout",
     "output_type": "stream",
     "text": [
      "ML Predictions:\n",
      "[ 2.63199961e+02  1.99673919e-01  1.99594743e-01  2.00131431e-01\n",
      "  1.99748822e-01 -1.99374933e-01 -1.99334112e-01  3.42800127e+02\n",
      " -2.00409471e-01]\n",
      "\n",
      "Ground Truth:\n",
      "[263.   0.   0.   0.   0.   0.   0. 343.   0.]\n",
      "\n",
      "Accuracy: 100.0\n"
     ]
    }
   ],
   "source": [
    "# Scaling here\n",
    "from sklearn.pipeline import make_pipeline\n",
    "from sklearn.preprocessing import StandardScaler\n",
    "\n",
    "regr = make_pipeline(StandardScaler(), SVR(C=1.0, epsilon=0.2, kernel='linear'))\n",
    "regr.fit(X_train, y_train)\n",
    "train_pred = regr.predict(X_train)\n",
    "model_acc = round(regr.score(X_train, y_train) * 100, num_dps)\n",
    "\n",
    "print(\"ML Predictions:\")\n",
    "print(train_pred)\n",
    "print(\"\\nGround Truth:\")\n",
    "print(y_train)\n",
    "print(f\"\\nAccuracy: {model_acc}\")\n",
    "acc_log[\"StandardScaler SVR\"] = model_acc"
   ]
  },
  {
   "cell_type": "markdown",
   "id": "1f2d4e12",
   "metadata": {},
   "source": [
    "Poly, rbf, sigmoid kernels all have negative accuracy.  Precomputed requires other things to run."
   ]
  },
  {
   "cell_type": "markdown",
   "id": "bf30db76",
   "metadata": {},
   "source": [
    "## Gaussian Process Regressor"
   ]
  },
  {
   "cell_type": "code",
   "execution_count": 19,
   "id": "5f8f2791",
   "metadata": {},
   "outputs": [
    {
     "data": {
      "text/plain": [
       "-0.025626513253798278"
      ]
     },
     "execution_count": 19,
     "metadata": {},
     "output_type": "execute_result"
    }
   ],
   "source": [
    "#https://scikit-learn.org/stable/modules/generated/sklearn.gaussian_process.GaussianProcessRegressor.html\n",
    "\n",
    "from sklearn.datasets import make_friedman2\n",
    "from sklearn.gaussian_process import GaussianProcessRegressor\n",
    "from sklearn.gaussian_process.kernels import DotProduct, WhiteKernel\n",
    "\n",
    "#X, y = make_friedman2(n_samples=500, noise=0, random_state=0)\n",
    "kernel = DotProduct() + WhiteKernel()\n",
    "gpr = GaussianProcessRegressor(kernel=kernel, random_state=0).fit(X_train, y_train)\n",
    "gpr.score(X_train, y_train)"
   ]
  },
  {
   "cell_type": "code",
   "execution_count": 20,
   "id": "13103633",
   "metadata": {
    "scrolled": true
   },
   "outputs": [
    {
     "data": {
      "text/plain": [
       "(array([44.53574221, 44.11849288, 44.1791453 , 42.63530398, 44.02534796,\n",
       "        42.45209289, 41.95527614, 44.85606303, 43.84890574]),\n",
       " array([140.42385404, 140.89889304, 141.0084064 , 142.42194456,\n",
       "        140.5486791 , 143.39458686, 143.39339661, 140.42315312,\n",
       "        140.87141146]))"
      ]
     },
     "execution_count": 20,
     "metadata": {},
     "output_type": "execute_result"
    }
   ],
   "source": [
    "gpr.predict(X_train, return_std=True)"
   ]
  },
  {
   "cell_type": "markdown",
   "id": "c7f568cd",
   "metadata": {},
   "source": [
    "## KNRegressor"
   ]
  },
  {
   "cell_type": "code",
   "execution_count": 21,
   "id": "9362731f",
   "metadata": {},
   "outputs": [
    {
     "name": "stdout",
     "output_type": "stream",
     "text": [
      "ML Predictions:\n",
      "[263.   0.   0.   0.   0.   0.   0. 343.   0.]\n",
      "\n",
      "Ground Truth:\n",
      "[263.   0.   0.   0.   0.   0.   0. 343.   0.]\n",
      "\n",
      "Accuracy: 100.0\n"
     ]
    }
   ],
   "source": [
    "#https://scikit-learn.org/stable/modules/generated/sklearn.neighbors.KNeighborsRegressor.html\n",
    "\n",
    "from sklearn.neighbors import KNeighborsRegressor\n",
    "\n",
    "model = KNeighborsRegressor(n_neighbors=1)\n",
    "model.fit(X_train, y_train)\n",
    "train_pred = model.predict(X_train)\n",
    "model_acc = round(model.score(X_train, y_train) * 100, num_dps)\n",
    "\n",
    "print(\"ML Predictions:\")\n",
    "print(train_pred)\n",
    "print(\"\\nGround Truth:\")\n",
    "print(y_train)\n",
    "print(f\"\\nAccuracy: {model_acc}\")\n",
    "acc_log[\"K-Nearest Regressor (1)\"] = model_acc"
   ]
  },
  {
   "cell_type": "code",
   "execution_count": 22,
   "id": "1942e6ef",
   "metadata": {},
   "outputs": [
    {
     "name": "stdout",
     "output_type": "stream",
     "text": [
      "ML Predictions:\n",
      "[303.    0.    0.    0.    0.    0.    0.  171.5   0. ]\n",
      "\n",
      "Ground Truth:\n",
      "[263.   0.   0.   0.   0.   0.   0. 343.   0.]\n",
      "\n",
      "Accuracy: 78.761\n"
     ]
    }
   ],
   "source": [
    "# 2 is the default\n",
    "\n",
    "model = KNeighborsRegressor(n_neighbors=2)\n",
    "model.fit(X_train, y_train)\n",
    "train_pred = model.predict(X_train)\n",
    "model_acc = round(model.score(X_train, y_train) * 100, num_dps)\n",
    "\n",
    "print(\"ML Predictions:\")\n",
    "print(train_pred)\n",
    "print(\"\\nGround Truth:\")\n",
    "print(y_train)\n",
    "print(f\"\\nAccuracy: {model_acc}\")\n",
    "acc_log[\"K-Nearest Regressor (2)\"] = model_acc"
   ]
  },
  {
   "cell_type": "code",
   "execution_count": 23,
   "id": "0a0f06ce",
   "metadata": {},
   "outputs": [
    {
     "name": "stdout",
     "output_type": "stream",
     "text": [
      "ML Predictions:\n",
      "[202.   0.   0.   0.   0.   0.   0. 202.   0.]\n",
      "\n",
      "Ground Truth:\n",
      "[263.   0.   0.   0.   0.   0.   0. 343.   0.]\n",
      "\n",
      "Accuracy: 83.836\n"
     ]
    }
   ],
   "source": [
    "model = KNeighborsRegressor(n_neighbors=3)\n",
    "model.fit(X_train, y_train)\n",
    "train_pred = model.predict(X_train)\n",
    "model_acc = round(model.score(X_train, y_train) * 100, num_dps)\n",
    "\n",
    "print(\"ML Predictions:\")\n",
    "print(train_pred)\n",
    "print(\"\\nGround Truth:\")\n",
    "print(y_train)\n",
    "print(f\"\\nAccuracy: {model_acc}\")\n",
    "acc_log[\"K-Nearest Regressor (3)\"] = model_acc"
   ]
  },
  {
   "cell_type": "code",
   "execution_count": 24,
   "id": "9ff9de7d",
   "metadata": {},
   "outputs": [
    {
     "name": "stdout",
     "output_type": "stream",
     "text": [
      "ML Predictions:\n",
      "[67.33333333 67.33333333 67.33333333 67.33333333 67.33333333 67.33333333\n",
      " 67.33333333 67.33333333 67.33333333]\n",
      "\n",
      "Ground Truth:\n",
      "[263.   0.   0.   0.   0.   0.   0. 343.   0.]\n",
      "\n",
      "Accuracy: 0.0\n"
     ]
    }
   ],
   "source": [
    "max_neighbors = X_train.shape[0]\n",
    "\n",
    "model = KNeighborsRegressor(n_neighbors=max_neighbors)\n",
    "model.fit(X_train, y_train)\n",
    "train_pred = model.predict(X_train)\n",
    "model_acc = round(model.score(X_train, y_train) * 100, num_dps)\n",
    "\n",
    "print(\"ML Predictions:\")\n",
    "print(train_pred)\n",
    "print(\"\\nGround Truth:\")\n",
    "print(y_train)\n",
    "print(f\"\\nAccuracy: {model_acc}\")\n",
    "acc_log[f\"K-Nearest Regressor ({max_neighbors})\"] = model_acc"
   ]
  },
  {
   "cell_type": "markdown",
   "id": "71651ed7",
   "metadata": {},
   "source": [
    "## ElasticNet Regression\n",
    ">Does not converge, do not run"
   ]
  },
  {
   "cell_type": "code",
   "execution_count": 25,
   "id": "04ece225",
   "metadata": {},
   "outputs": [],
   "source": [
    "#from sklearn.linear_model import ElasticNetCV\n",
    "#model = ElasticNetCV()\n",
    "#model.fit(X_train, y_train)\n",
    "#train_pred = model.predict(X_train)\n",
    "#model_acc = round(model.score(X_train, y_train) * 100, num_dps)\n",
    "\n",
    "#print(\"ML Predictions:\")\n",
    "#print(train_pred)\n",
    "#print(\"\\nGround Truth:\")\n",
    "#print(y_train)\n",
    "#print(f\"\\nAccuracy: {round(model.score(X_train, y_train) * 100, 2)}\")"
   ]
  },
  {
   "cell_type": "markdown",
   "id": "403b3c9f",
   "metadata": {},
   "source": [
    "# Accuracy Evaluation"
   ]
  },
  {
   "cell_type": "code",
   "execution_count": 28,
   "id": "9953d5a3",
   "metadata": {},
   "outputs": [
    {
     "data": {
      "text/html": [
       "<div>\n",
       "<style scoped>\n",
       "    .dataframe tbody tr th:only-of-type {\n",
       "        vertical-align: middle;\n",
       "    }\n",
       "\n",
       "    .dataframe tbody tr th {\n",
       "        vertical-align: top;\n",
       "    }\n",
       "\n",
       "    .dataframe thead th {\n",
       "        text-align: right;\n",
       "    }\n",
       "</style>\n",
       "<table border=\"1\" class=\"dataframe\">\n",
       "  <thead>\n",
       "    <tr style=\"text-align: right;\">\n",
       "      <th></th>\n",
       "      <th>Algorithm</th>\n",
       "      <th>Accuracy</th>\n",
       "    </tr>\n",
       "  </thead>\n",
       "  <tbody>\n",
       "    <tr>\n",
       "      <th>0</th>\n",
       "      <td>Random Forest</td>\n",
       "      <td>95.230</td>\n",
       "    </tr>\n",
       "    <tr>\n",
       "      <th>1</th>\n",
       "      <td>LASSO</td>\n",
       "      <td>88.637</td>\n",
       "    </tr>\n",
       "    <tr>\n",
       "      <th>2</th>\n",
       "      <td>Ridge</td>\n",
       "      <td>90.979</td>\n",
       "    </tr>\n",
       "    <tr>\n",
       "      <th>3</th>\n",
       "      <td>K-Nearest Regressor (1)</td>\n",
       "      <td>100.000</td>\n",
       "    </tr>\n",
       "    <tr>\n",
       "      <th>4</th>\n",
       "      <td>K-Nearest Regressor (2)</td>\n",
       "      <td>78.761</td>\n",
       "    </tr>\n",
       "    <tr>\n",
       "      <th>5</th>\n",
       "      <td>K-Nearest Regressor (3)</td>\n",
       "      <td>83.836</td>\n",
       "    </tr>\n",
       "    <tr>\n",
       "      <th>6</th>\n",
       "      <td>K-Nearest Regressor (9)</td>\n",
       "      <td>0.000</td>\n",
       "    </tr>\n",
       "  </tbody>\n",
       "</table>\n",
       "</div>"
      ],
      "text/plain": [
       "                 Algorithm  Accuracy\n",
       "0            Random Forest    95.230\n",
       "1                    LASSO    88.637\n",
       "2                    Ridge    90.979\n",
       "3  K-Nearest Regressor (1)   100.000\n",
       "4  K-Nearest Regressor (2)    78.761\n",
       "5  K-Nearest Regressor (3)    83.836\n",
       "6  K-Nearest Regressor (9)     0.000"
      ]
     },
     "execution_count": 28,
     "metadata": {},
     "output_type": "execute_result"
    }
   ],
   "source": [
    "acc_df = pd.DataFrame.from_dict(acc_log, orient='index', columns=['Accuracy'])\n",
    "acc_df.reset_index(inplace=True)\n",
    "acc_df.rename(columns={'index': 'Algorithm'}, inplace=True)\n",
    "acc_df.head(100)"
   ]
  },
  {
   "cell_type": "code",
   "execution_count": null,
   "id": "dd842944",
   "metadata": {},
   "outputs": [],
   "source": []
  },
  {
   "cell_type": "code",
   "execution_count": null,
   "id": "1d8f9393",
   "metadata": {},
   "outputs": [],
   "source": []
  }
 ],
 "metadata": {
  "kernelspec": {
   "display_name": "Python 3 (ipykernel)",
   "language": "python",
   "name": "python3"
  },
  "language_info": {
   "codemirror_mode": {
    "name": "ipython",
    "version": 3
   },
   "file_extension": ".py",
   "mimetype": "text/x-python",
   "name": "python",
   "nbconvert_exporter": "python",
   "pygments_lexer": "ipython3",
   "version": "3.9.5"
  }
 },
 "nbformat": 4,
 "nbformat_minor": 5
}
